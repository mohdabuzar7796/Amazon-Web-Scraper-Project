{
  "nbformat": 4,
  "nbformat_minor": 0,
  "metadata": {
    "colab": {
      "provenance": []
    },
    "kernelspec": {
      "name": "python3",
      "display_name": "Python 3"
    },
    "language_info": {
      "name": "python"
    }
  },
  "cells": [
    {
      "cell_type": "code",
      "execution_count": null,
      "metadata": {
        "id": "SOvH9tfM846r"
      },
      "outputs": [],
      "source": [
        "# import libraries\n",
        "\n",
        "from bs4 import BeautifulSoup\n",
        "import requests\n",
        "import time\n",
        "import datetime\n",
        "import pandas as pd\n",
        "\n",
        "import smtplib"
      ]
    },
    {
      "cell_type": "code",
      "source": [
        "# Connect to Website and pull in data\n",
        "\n",
        "URL = \"https://www.amazon.in/CreativiT-Graphic-Printed-Graphics-D00255-50_White_Large/dp/B08NWJX9GZ/ref=sr_1_2?dib=eyJ2IjoiMSJ9.AvrYGV6_UbIGa4sNHPUWoQkvPPp-2WUJQ5RwUoqWPyYu3RS8NoZVDLpG1jdPlVoVYOI2TbXpk8tw6GOtTdJ9KocRsImV2Hw8RFYwt1-m4kL_-OAKQltTLnIaGdVO5ws9.S86aAXe4H-B9X8KZWF-4Ac2CCCevOk4lRqBiE58XCcc&dib_tag=se&keywords=funny+got+data+mis+data+systems+business+analyst+t+shirt&nsdOptOutParam=true&qid=1719597802&sr=8-2\"\n",
        "headers = {\"User-Agent\": \"Mozilla/5.0 (Windows NT 10.0; Win64; x64) AppleWebKit/537.36 (KHTML, like Gecko) Chrome/109.0.0.0 Safari/537.36\",\n",
        "           \"Accept-Encoding\": \"gzip, deflate\",\n",
        "           \"Accept\": \"text/html,application/xhtml+xml,application/xml;q=0.9,image/avif,image/webp,image/apng,*/*;q=0.8,application/signed-exchange;v=b3;q=0.9\",\n",
        "           \"DNT\": \"1\",\n",
        "           \"Connection\":\"close\",\n",
        "           \"Upgrade-Insecure-Requests\": \"1\"}\n",
        "\n",
        "page = requests.get(URL, headers = headers)\n",
        "soup1 = BeautifulSoup(page.content, 'html.parser')\n",
        "soup2 = BeautifulSoup(soup1.prettify(), 'html.parser')\n",
        "title = soup2.find(id=\"productTitle\").get_text()\n",
        "price = soup2.find('span', class_ = \"a-price-whole\").get_text()\n",
        "\n",
        "print(title)\n",
        "print(price)\n",
        "\n"
      ],
      "metadata": {
        "colab": {
          "base_uri": "https://localhost:8080/"
        },
        "id": "PziIid7S9WQI",
        "outputId": "bace7934-c7f4-4bb9-9275-1db25dd730d8"
      },
      "execution_count": null,
      "outputs": [
        {
          "output_type": "stream",
          "name": "stdout",
          "text": [
            "\n",
            "                     CreativiT Graphic Printed T-Shirt for Unisex graphics Tshirt | Casual Half Sleeve Round Neck T-Shirt | 100% Cotton | D00255-50\n",
            "                    \n",
            "\n",
            "                       425\n",
            "                      \n"
          ]
        }
      ]
    },
    {
      "cell_type": "code",
      "source": [
        "# Clean up the data a little bit\n",
        "\n",
        "price = price.strip()\n",
        "title = title.strip()\n",
        "\n",
        "print(title)\n",
        "print(price)"
      ],
      "metadata": {
        "colab": {
          "base_uri": "https://localhost:8080/"
        },
        "id": "-Rr6jZ6IBxQU",
        "outputId": "5c7b3bfc-cc35-4850-c09a-37b3cfd38011"
      },
      "execution_count": null,
      "outputs": [
        {
          "output_type": "stream",
          "name": "stdout",
          "text": [
            "CreativiT Graphic Printed T-Shirt for Unisex graphics Tshirt | Casual Half Sleeve Round Neck T-Shirt | 100% Cotton | D00255-50\n",
            "425\n"
          ]
        }
      ]
    },
    {
      "cell_type": "code",
      "source": [
        "import datetime\n",
        "\n",
        "today = datetime.date.today()\n",
        "print(today)"
      ],
      "metadata": {
        "colab": {
          "base_uri": "https://localhost:8080/"
        },
        "id": "LpLYgIhFTap1",
        "outputId": "fc3670a2-a252-4407-c62f-b505464be236"
      },
      "execution_count": null,
      "outputs": [
        {
          "output_type": "stream",
          "name": "stdout",
          "text": [
            "2024-06-28\n"
          ]
        }
      ]
    },
    {
      "cell_type": "code",
      "source": [
        "# Create CSV and write headers and data into the file\n",
        "\n",
        "import csv\n",
        "\n",
        "header = ['Title', 'Price', 'Date']\n",
        "data = [title, price, today]\n",
        "\n",
        "with open('AmazonWebScraperDataset.csv', 'w', newline = '', encoding = 'UTF8') as f:\n",
        "  writer = csv.writer(f)\n",
        "  writer.writerow(header)\n",
        "  writer.writerow(data)"
      ],
      "metadata": {
        "id": "OF6fjUplNMVF"
      },
      "execution_count": null,
      "outputs": []
    },
    {
      "cell_type": "code",
      "source": [
        "df = pd.read_csv(r'/content/AmazonWebScraperDataset.csv')\n",
        "print(df)"
      ],
      "metadata": {
        "colab": {
          "base_uri": "https://localhost:8080/"
        },
        "id": "NztUMy1zSMs9",
        "outputId": "b03143eb-9338-4dbd-f854-ec30d0f1fe24"
      },
      "execution_count": null,
      "outputs": [
        {
          "output_type": "stream",
          "name": "stdout",
          "text": [
            "                                               Title  Price        Date\n",
            "0  CreativiT Graphic Printed T-Shirt for Unisex g...    425  2024-06-28\n",
            "1  CreativiT Graphic Printed T-Shirt for Unisex g...    425  2024-06-28\n",
            "2  CreativiT Graphic Printed T-Shirt for Unisex g...    425  2024-06-28\n",
            "3  CreativiT Graphic Printed T-Shirt for Unisex g...    425  2024-06-28\n"
          ]
        }
      ]
    },
    {
      "cell_type": "code",
      "source": [
        "#Now we wre appending data to the csv\n",
        "\n",
        "with open('AmazonWebScraperDataset.csv', 'a+', newline = '', encoding = 'UTF8') as f:\n",
        "  writer = csv.writer(f)\n",
        "  writer.writerow(data)"
      ],
      "metadata": {
        "id": "BQiV92yIUItR"
      },
      "execution_count": null,
      "outputs": []
    },
    {
      "cell_type": "code",
      "source": [
        "#Combine all of the above code into one function\n",
        "\n",
        "def check_price():\n",
        "  URL = \"https://www.amazon.in/CreativiT-Graphic-Printed-Graphics-D00255-50_White_Large/dp/B08NWJX9GZ/ref=sr_1_2?dib=eyJ2IjoiMSJ9.AvrYGV6_UbIGa4sNHPUWoQkvPPp-2WUJQ5RwUoqWPyYu3RS8NoZVDLpG1jdPlVoVYOI2TbXpk8tw6GOtTdJ9KocRsImV2Hw8RFYwt1-m4kL_-OAKQltTLnIaGdVO5ws9.S86aAXe4H-B9X8KZWF-4Ac2CCCevOk4lRqBiE58XCcc&dib_tag=se&keywords=funny+got+data+mis+data+systems+business+analyst+t+shirt&nsdOptOutParam=true&qid=1719597802&sr=8-2\"\n",
        "  headers = {\n",
        "      \"User-Agent\": \"Mozilla/5.0 (Windows NT 10.0; Win64; x64) AppleWebKit/537.36 (KHTML, like Gecko) Chrome/109.0.0.0 Safari/537.36\",\n",
        "      \"Accept-Encoding\": \"gzip, deflate\",\n",
        "      \"Accept\": \"text/html,application/xhtml+xml,application/xml;q=0.9,image/avif,image/webp,image/apng,*/*;q=0.8,application/signed-exchange;v=b3;q=0.9\",\n",
        "      \"DNT\": \"1\",\n",
        "      \"Connection\":\"close\",\n",
        "      \"Upgrade-Insecure-Requests\": \"1\"\n",
        "      }\n",
        "\n",
        "  page = requests.get(URL, headers = headers)\n",
        "  soup1 = BeautifulSoup(page.content, 'html.parser')\n",
        "  soup2 = BeautifulSoup(soup1.prettify(), 'html.parser')\n",
        "  title = soup2.find(id=\"productTitle\").get_text()\n",
        "  price = soup2.find('span', class_ = \"a-price-whole\").get_text()\n",
        "\n",
        "  price = price.strip()\n",
        "  title = title.strip()\n",
        "\n",
        "  import datetime\n",
        "  today = datetime.date.today()\n",
        "\n",
        "  import csv\n",
        "  header = ['Title', 'Price', 'Date']\n",
        "  data = [title, price, today]\n",
        "\n",
        "  with open('AmazonWebScraperDataset.csv', 'a+', newline = '', encoding = 'UTF8') as f:\n",
        "    writer = csv.writer(f)\n",
        "    writer.writerow(data)\n",
        "\n",
        "  if(price<400):\n",
        "    send_mail()\n",
        "\n"
      ],
      "metadata": {
        "id": "G1n_D_E8VxTR"
      },
      "execution_count": null,
      "outputs": []
    },
    {
      "cell_type": "code",
      "source": [
        "# Runs check_price after a set time and inputs data into your CSV\n",
        "\n",
        "while(True):\n",
        "  check_price\n",
        "  time.sleep(86400)"
      ],
      "metadata": {
        "id": "wHsz-QFbJuiR"
      },
      "execution_count": null,
      "outputs": []
    },
    {
      "cell_type": "code",
      "source": [
        "import pandas as pd\n",
        "\n",
        "df = pd.read_csv(r'/content/AmazonWebScraperDataset.csv')\n",
        "print(df)"
      ],
      "metadata": {
        "colab": {
          "base_uri": "https://localhost:8080/"
        },
        "id": "1Z7PKsdJZfiY",
        "outputId": "1da60827-dc5f-4e8b-f530-2cc94d338023"
      },
      "execution_count": null,
      "outputs": [
        {
          "output_type": "stream",
          "name": "stdout",
          "text": [
            "                                               Title  Price        Date\n",
            "0  CreativiT Graphic Printed T-Shirt for Unisex g...    425  2024-06-28\n",
            "1  CreativiT Graphic Printed T-Shirt for Unisex g...    425  2024-06-28\n",
            "2  CreativiT Graphic Printed T-Shirt for Unisex g...    425  2024-06-28\n",
            "3  CreativiT Graphic Printed T-Shirt for Unisex g...    425  2024-06-28\n"
          ]
        }
      ]
    },
    {
      "cell_type": "code",
      "source": [
        "# If uou want to try sending yourself an email (just for fun) when a price hits below a certain level you can try it\n",
        "# out with this script\n",
        "\n",
        "def send_mail():\n",
        "    server = smtplib.SMTP_SSL('smtp.gmail.com',465)\n",
        "    server.ehlo()\n",
        "    #server.starttls()\n",
        "    server.ehlo()\n",
        "    server.login('mohdabuzar.7796@gmail.com','xxxxxxxxxxxxxxxx')\n",
        "\n",
        "    subject = \"The Shirt you want is below Rs.400! Now is your chance to buy!\"\n",
        "    body = \"Mohammad, This is the moment we have been waiting for. Now is your chance to pick up the shirt of your dreams. Don't mess it up! Link here: https://www.amazon.in/CreativiT-Graphic-Printed-Graphics-D00255-50_White_Large/dp/B08NWJX9GZ/ref=sr_1_2?dib=eyJ2IjoiMSJ9.AvrYGV6_UbIGa4sNHPUWoQkvPPp-2WUJQ5RwUoqWPyYu3RS8NoZVDLpG1jdPlVoVYOI2TbXpk8tw6GOtTdJ9KocRsImV2Hw8RFYwt1-m4kL_-OAKQltTLnIaGdVO5ws9.S86aAXe4H-B9X8KZWF-4Ac2CCCevOk4lRqBiE58XCcc&dib_tag=se&keywords=funny+got+data+mis+data+systems+business+analyst+t+shirt&nsdOptOutParam=true&qid=1719597802&sr=8-2\"\n",
        "\n",
        "    msg = f\"Subject: {subject}\\n\\n{body}\"\n",
        "\n",
        "    server.sendmail(\n",
        "        'mohdabuzar.7796@gmail.com',\n",
        "        msg\n",
        "\n",
        "    )"
      ],
      "metadata": {
        "id": "WCuWb9ImZyMc"
      },
      "execution_count": 1,
      "outputs": []
    }
  ]
}